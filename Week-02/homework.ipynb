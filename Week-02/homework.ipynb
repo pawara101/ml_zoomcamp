{
 "cells": [
  {
   "metadata": {},
   "cell_type": "markdown",
   "source": [
    "## Homework\n",
    "\n",
    "> Note: sometimes your answer doesn't match one of\n",
    "> the options exactly. That's fine.\n",
    "> Select the option that's closest to your solution.\n",
    "\n",
    "### Dataset\n",
    "\n",
    "For this homework, we'll use the Car Fuel Efficiency dataset. Download it from <a href='https://raw.githubusercontent.com/alexeygrigorev/datasets/master/car_fuel_efficiency.csv'>here</a>.\n",
    "\n",
    "You can do it with wget:\n",
    "```bash\n",
    "wget https://raw.githubusercontent.com/alexeygrigorev/datasets/master/car_fuel_efficiency.csv\n",
    "```\n",
    "\n",
    "The goal of this homework is to create a regression model for predicting the car fuel efficiency (column `'fuel_efficiency_mpg'`).\n",
    "\n",
    "### Preparing the dataset\n",
    "\n",
    "Use only the following columns:\n",
    "\n",
    "* `'engine_displacement'`,\n",
    "* `'horsepower'`,\n",
    "* `'vehicle_weight'`,\n",
    "* `'model_year'`,\n",
    "* `'fuel_efficiency_mpg'`\n",
    "\n",
    "### EDA\n",
    "\n",
    "* Look at the `fuel_efficiency_mpg` variable. Does it have a long tail?\n",
    "\n",
    "### Question 1\n",
    "\n",
    "There's one column with missing values. What is it?\n",
    "\n",
    "* `'engine_displacement'`\n",
    "* `'horsepower'`\n",
    "* `'vehicle_weight'`\n",
    "* `'model_year'`\n",
    "\n",
    "\n",
    "### Question 2\n",
    "\n",
    "What's the median (50% percentile) for variable `'horsepower'`?\n",
    "\n",
    "- 49\n",
    "- 99\n",
    "- 149\n",
    "- 199\n",
    "\n",
    "### Prepare and split the dataset\n",
    "\n",
    "* Shuffle the dataset (the filtered one you created above), use seed `42`.\n",
    "* Split your data in train/val/test sets, with 60%/20%/20% distribution.\n",
    "\n",
    "Use the same code as in the lectures\n",
    "\n",
    "\n",
    "### Question 3\n",
    "\n",
    "* We need to deal with missing values for the column from Q1.\n",
    "* We have two options: fill it with 0 or with the mean of this variable.\n",
    "* Try both options. For each, train a linear regression model without regularization using the code from the lessons.\n",
    "* For computing the mean, use the training only!\n",
    "* Use the validation dataset to evaluate the models and compare the RMSE of each option.\n",
    "* Round the RMSE scores to 2 decimal digits using `round(score, 2)`\n",
    "* Which option gives better RMSE?\n",
    "\n",
    "Options:\n",
    "\n",
    "- With 0\n",
    "- With mean\n",
    "- Both are equally good\n",
    "\n",
    "\n",
    "### Question 4\n",
    "\n",
    "* Now let's train a regularized linear regression.\n",
    "* For this question, fill the NAs with 0.\n",
    "* Try different values of `r` from this list: `[0, 0.01, 0.1, 1, 5, 10, 100]`.\n",
    "* Use RMSE to evaluate the model on the validation dataset.\n",
    "* Round the RMSE scores to 2 decimal digits.\n",
    "* Which `r` gives the best RMSE?\n",
    "\n",
    "If multiple options give the same best RMSE, select the smallest `r`.\n",
    "\n",
    "Options:\n",
    "\n",
    "- 0\n",
    "- 0.01\n",
    "- 1\n",
    "- 10\n",
    "- 100\n",
    "\n",
    "\n",
    "### Question 5\n",
    "\n",
    "* We used seed 42 for splitting the data. Let's find out how selecting the seed influences our score.\n",
    "* Try different seed values: `[0, 1, 2, 3, 4, 5, 6, 7, 8, 9]`.\n",
    "* For each seed, do the train/validation/test split with 60%/20%/20% distribution.\n",
    "* Fill the missing values with 0 and train a model without regularization.\n",
    "* For each seed, evaluate the model on the validation dataset and collect the RMSE scores.\n",
    "* What's the standard deviation of all the scores? To compute the standard deviation, use `np.std`.\n",
    "* Round the result to 3 decimal digits (`round(std, 3)`)\n",
    "\n",
    "What's the value of std?\n",
    "\n",
    "- 0.001\n",
    "- 0.006\n",
    "- 0.060\n",
    "- 0.600\n",
    "\n",
    "> Note: Standard deviation shows how different the values are.\n",
    "> If it's low, then all values are approximately the same.\n",
    "> If it's high, the values are different.\n",
    "> If standard deviation of scores is low, then our model is *stable*.\n",
    "\n",
    "\n",
    "### Question 6\n",
    "\n",
    "* Split the dataset like previously, use seed 9.\n",
    "* Combine train and validation datasets.\n",
    "* Fill the missing values with 0 and train a model with `r=0.001`.\n",
    "* What's the RMSE on the test dataset?\n",
    "\n",
    "Options:\n",
    "\n",
    "- 0.15\n",
    "- 0.515\n",
    "- 5.15\n",
    "- 51.5\n",
    "\n",
    "## Submit the results\n",
    "\n",
    "* Submit your results here: https://courses.datatalks.club/ml-zoomcamp-2025/homework/hw02\n",
    "* If your answer doesn't match options exactly, select the closest one"
   ],
   "id": "566bf2de117cb701"
  },
  {
   "metadata": {
    "collapsed": true,
    "ExecuteTime": {
     "end_time": "2025-10-04T11:42:37.538547Z",
     "start_time": "2025-10-04T11:42:37.535610Z"
    }
   },
   "cell_type": "code",
   "outputs": [],
   "execution_count": 3,
   "source": [
    "import numpy as np\n",
    "import matplotlib.pyplot as plt\n",
    "import pandas as pd\n",
    "import seaborn as sns"
   ],
   "id": "222805d18a75c111"
  },
  {
   "metadata": {
    "ExecuteTime": {
     "end_time": "2025-10-04T11:42:45.772341Z",
     "start_time": "2025-10-04T11:42:38.371233Z"
    }
   },
   "cell_type": "code",
   "outputs": [],
   "execution_count": 4,
   "source": "data = pd.read_csv('https://raw.githubusercontent.com/alexeygrigorev/datasets/master/car_fuel_efficiency.csv')",
   "id": "c47e75317484ac18"
  },
  {
   "metadata": {
    "ExecuteTime": {
     "end_time": "2025-10-04T11:42:45.845579Z",
     "start_time": "2025-10-04T11:42:45.836244Z"
    }
   },
   "cell_type": "code",
   "outputs": [
    {
     "data": {
      "text/plain": [
       "   engine_displacement  num_cylinders  horsepower  vehicle_weight  \\\n",
       "0                  170            3.0       159.0     3413.433759   \n",
       "1                  130            5.0        97.0     3149.664934   \n",
       "2                  170            NaN        78.0     3079.038997   \n",
       "3                  220            4.0         NaN     2542.392402   \n",
       "4                  210            1.0       140.0     3460.870990   \n",
       "\n",
       "   acceleration  model_year  origin fuel_type         drivetrain  num_doors  \\\n",
       "0          17.7        2003  Europe  Gasoline    All-wheel drive        0.0   \n",
       "1          17.8        2007     USA  Gasoline  Front-wheel drive        0.0   \n",
       "2          15.1        2018  Europe  Gasoline  Front-wheel drive        0.0   \n",
       "3          20.2        2009     USA    Diesel    All-wheel drive        2.0   \n",
       "4          14.4        2009  Europe  Gasoline    All-wheel drive        2.0   \n",
       "\n",
       "   fuel_efficiency_mpg  \n",
       "0            13.231729  \n",
       "1            13.688217  \n",
       "2            14.246341  \n",
       "3            16.912736  \n",
       "4            12.488369  "
      ],
      "text/html": [
       "<div>\n",
       "<style scoped>\n",
       "    .dataframe tbody tr th:only-of-type {\n",
       "        vertical-align: middle;\n",
       "    }\n",
       "\n",
       "    .dataframe tbody tr th {\n",
       "        vertical-align: top;\n",
       "    }\n",
       "\n",
       "    .dataframe thead th {\n",
       "        text-align: right;\n",
       "    }\n",
       "</style>\n",
       "<table border=\"1\" class=\"dataframe\">\n",
       "  <thead>\n",
       "    <tr style=\"text-align: right;\">\n",
       "      <th></th>\n",
       "      <th>engine_displacement</th>\n",
       "      <th>num_cylinders</th>\n",
       "      <th>horsepower</th>\n",
       "      <th>vehicle_weight</th>\n",
       "      <th>acceleration</th>\n",
       "      <th>model_year</th>\n",
       "      <th>origin</th>\n",
       "      <th>fuel_type</th>\n",
       "      <th>drivetrain</th>\n",
       "      <th>num_doors</th>\n",
       "      <th>fuel_efficiency_mpg</th>\n",
       "    </tr>\n",
       "  </thead>\n",
       "  <tbody>\n",
       "    <tr>\n",
       "      <th>0</th>\n",
       "      <td>170</td>\n",
       "      <td>3.0</td>\n",
       "      <td>159.0</td>\n",
       "      <td>3413.433759</td>\n",
       "      <td>17.7</td>\n",
       "      <td>2003</td>\n",
       "      <td>Europe</td>\n",
       "      <td>Gasoline</td>\n",
       "      <td>All-wheel drive</td>\n",
       "      <td>0.0</td>\n",
       "      <td>13.231729</td>\n",
       "    </tr>\n",
       "    <tr>\n",
       "      <th>1</th>\n",
       "      <td>130</td>\n",
       "      <td>5.0</td>\n",
       "      <td>97.0</td>\n",
       "      <td>3149.664934</td>\n",
       "      <td>17.8</td>\n",
       "      <td>2007</td>\n",
       "      <td>USA</td>\n",
       "      <td>Gasoline</td>\n",
       "      <td>Front-wheel drive</td>\n",
       "      <td>0.0</td>\n",
       "      <td>13.688217</td>\n",
       "    </tr>\n",
       "    <tr>\n",
       "      <th>2</th>\n",
       "      <td>170</td>\n",
       "      <td>NaN</td>\n",
       "      <td>78.0</td>\n",
       "      <td>3079.038997</td>\n",
       "      <td>15.1</td>\n",
       "      <td>2018</td>\n",
       "      <td>Europe</td>\n",
       "      <td>Gasoline</td>\n",
       "      <td>Front-wheel drive</td>\n",
       "      <td>0.0</td>\n",
       "      <td>14.246341</td>\n",
       "    </tr>\n",
       "    <tr>\n",
       "      <th>3</th>\n",
       "      <td>220</td>\n",
       "      <td>4.0</td>\n",
       "      <td>NaN</td>\n",
       "      <td>2542.392402</td>\n",
       "      <td>20.2</td>\n",
       "      <td>2009</td>\n",
       "      <td>USA</td>\n",
       "      <td>Diesel</td>\n",
       "      <td>All-wheel drive</td>\n",
       "      <td>2.0</td>\n",
       "      <td>16.912736</td>\n",
       "    </tr>\n",
       "    <tr>\n",
       "      <th>4</th>\n",
       "      <td>210</td>\n",
       "      <td>1.0</td>\n",
       "      <td>140.0</td>\n",
       "      <td>3460.870990</td>\n",
       "      <td>14.4</td>\n",
       "      <td>2009</td>\n",
       "      <td>Europe</td>\n",
       "      <td>Gasoline</td>\n",
       "      <td>All-wheel drive</td>\n",
       "      <td>2.0</td>\n",
       "      <td>12.488369</td>\n",
       "    </tr>\n",
       "  </tbody>\n",
       "</table>\n",
       "</div>"
      ]
     },
     "execution_count": 5,
     "metadata": {},
     "output_type": "execute_result"
    }
   ],
   "execution_count": 5,
   "source": "data.head()",
   "id": "1c78a0d1fb1aa2ab"
  },
  {
   "metadata": {
    "ExecuteTime": {
     "end_time": "2025-10-04T11:42:45.966451Z",
     "start_time": "2025-10-04T11:42:45.964514Z"
    }
   },
   "cell_type": "code",
   "outputs": [],
   "execution_count": 6,
   "source": [
    "cols_use = ['engine_displacement',\n",
    "'horsepower',\n",
    "'vehicle_weight',\n",
    "'model_year',\n",
    "'fuel_efficiency_mpg']"
   ],
   "id": "9f898676a76e56ee"
  },
  {
   "metadata": {
    "ExecuteTime": {
     "end_time": "2025-10-04T11:42:46.084777Z",
     "start_time": "2025-10-04T11:42:46.080468Z"
    }
   },
   "cell_type": "code",
   "outputs": [],
   "execution_count": 7,
   "source": "prediction_data = data[cols_use]",
   "id": "e9b5976ed79981b1"
  },
  {
   "metadata": {
    "ExecuteTime": {
     "end_time": "2025-10-04T11:42:46.161675Z",
     "start_time": "2025-10-04T11:42:46.156727Z"
    }
   },
   "cell_type": "code",
   "outputs": [
    {
     "data": {
      "text/plain": [
       "   engine_displacement  horsepower  vehicle_weight  model_year  \\\n",
       "0                  170       159.0     3413.433759        2003   \n",
       "1                  130        97.0     3149.664934        2007   \n",
       "2                  170        78.0     3079.038997        2018   \n",
       "3                  220         NaN     2542.392402        2009   \n",
       "4                  210       140.0     3460.870990        2009   \n",
       "\n",
       "   fuel_efficiency_mpg  \n",
       "0            13.231729  \n",
       "1            13.688217  \n",
       "2            14.246341  \n",
       "3            16.912736  \n",
       "4            12.488369  "
      ],
      "text/html": [
       "<div>\n",
       "<style scoped>\n",
       "    .dataframe tbody tr th:only-of-type {\n",
       "        vertical-align: middle;\n",
       "    }\n",
       "\n",
       "    .dataframe tbody tr th {\n",
       "        vertical-align: top;\n",
       "    }\n",
       "\n",
       "    .dataframe thead th {\n",
       "        text-align: right;\n",
       "    }\n",
       "</style>\n",
       "<table border=\"1\" class=\"dataframe\">\n",
       "  <thead>\n",
       "    <tr style=\"text-align: right;\">\n",
       "      <th></th>\n",
       "      <th>engine_displacement</th>\n",
       "      <th>horsepower</th>\n",
       "      <th>vehicle_weight</th>\n",
       "      <th>model_year</th>\n",
       "      <th>fuel_efficiency_mpg</th>\n",
       "    </tr>\n",
       "  </thead>\n",
       "  <tbody>\n",
       "    <tr>\n",
       "      <th>0</th>\n",
       "      <td>170</td>\n",
       "      <td>159.0</td>\n",
       "      <td>3413.433759</td>\n",
       "      <td>2003</td>\n",
       "      <td>13.231729</td>\n",
       "    </tr>\n",
       "    <tr>\n",
       "      <th>1</th>\n",
       "      <td>130</td>\n",
       "      <td>97.0</td>\n",
       "      <td>3149.664934</td>\n",
       "      <td>2007</td>\n",
       "      <td>13.688217</td>\n",
       "    </tr>\n",
       "    <tr>\n",
       "      <th>2</th>\n",
       "      <td>170</td>\n",
       "      <td>78.0</td>\n",
       "      <td>3079.038997</td>\n",
       "      <td>2018</td>\n",
       "      <td>14.246341</td>\n",
       "    </tr>\n",
       "    <tr>\n",
       "      <th>3</th>\n",
       "      <td>220</td>\n",
       "      <td>NaN</td>\n",
       "      <td>2542.392402</td>\n",
       "      <td>2009</td>\n",
       "      <td>16.912736</td>\n",
       "    </tr>\n",
       "    <tr>\n",
       "      <th>4</th>\n",
       "      <td>210</td>\n",
       "      <td>140.0</td>\n",
       "      <td>3460.870990</td>\n",
       "      <td>2009</td>\n",
       "      <td>12.488369</td>\n",
       "    </tr>\n",
       "  </tbody>\n",
       "</table>\n",
       "</div>"
      ]
     },
     "execution_count": 8,
     "metadata": {},
     "output_type": "execute_result"
    }
   ],
   "execution_count": 8,
   "source": "prediction_data.head()",
   "id": "61b61373458e197e"
  },
  {
   "metadata": {
    "ExecuteTime": {
     "end_time": "2025-10-04T11:43:11.152861Z",
     "start_time": "2025-10-04T11:43:10.990721Z"
    }
   },
   "cell_type": "code",
   "outputs": [
    {
     "data": {
      "text/plain": [
       "<Axes: xlabel='fuel_efficiency_mpg', ylabel='Count'>"
      ]
     },
     "execution_count": 9,
     "metadata": {},
     "output_type": "execute_result"
    },
    {
     "data": {
      "text/plain": [
       "<Figure size 640x480 with 1 Axes>"
      ],
      "image/png": "[encoded data removed]"
     },
     "metadata": {},
     "output_type": "display_data",
     "jetTransient": {
      "display_id": null
     }
    }
   ],
   "execution_count": 9,
   "source": "sns.histplot(x=prediction_data['fuel_efficiency_mpg'],bins=100)",
   "id": "f98c8d02ef0c4eec"
  },
  {
   "metadata": {
    "ExecuteTime": {
     "end_time": "2025-10-04T11:43:20.142342Z",
     "start_time": "2025-10-04T11:43:20.138956Z"
    }
   },
   "cell_type": "code",
   "outputs": [
    {
     "data": {
      "text/plain": [
       "engine_displacement      0\n",
       "horsepower             708\n",
       "vehicle_weight           0\n",
       "model_year               0\n",
       "fuel_efficiency_mpg      0\n",
       "dtype: int64"
      ]
     },
     "execution_count": 10,
     "metadata": {},
     "output_type": "execute_result"
    }
   ],
   "execution_count": 10,
   "source": "prediction_data.isna().sum()",
   "id": "8fe65a9882ef8f53"
  },
  {
   "metadata": {
    "ExecuteTime": {
     "end_time": "2025-10-04T11:43:26.487775Z",
     "start_time": "2025-10-04T11:43:26.485114Z"
    }
   },
   "cell_type": "code",
   "outputs": [
    {
     "data": {
      "text/plain": [
       "149.0"
      ]
     },
     "execution_count": 11,
     "metadata": {},
     "output_type": "execute_result"
    }
   ],
   "execution_count": 11,
   "source": "prediction_data['horsepower'].median()",
   "id": "b292086c5945e5c9"
  },
  {
   "metadata": {
    "ExecuteTime": {
     "end_time": "2025-10-04T11:46:42.200835Z",
     "start_time": "2025-10-04T11:46:42.198260Z"
    }
   },
   "cell_type": "code",
   "outputs": [],
   "execution_count": 16,
   "source": [
    "n_train = int(len(prediction_data) * 0.6)\n",
    "n_val =int(len(prediction_data) * 0.2)\n",
    "n_test = int(len(prediction_data) - n_val - n_train)"
   ],
   "id": "d083aa42ce052987"
  },
  {
   "metadata": {
    "ExecuteTime": {
     "end_time": "2025-10-04T11:49:04.046640Z",
     "start_time": "2025-10-04T11:49:04.042656Z"
    }
   },
   "cell_type": "code",
   "outputs": [
    {
     "name": "stdout",
     "output_type": "stream",
     "text": [
      "Total Train records : 9704\n"
     ]
    }
   ],
   "execution_count": 22,
   "source": [
    "## with shuffles\n",
    "n = len(prediction_data)\n",
    "print(\"Total Train records :\",n)\n",
    "idx = np.arange(n)\n",
    "np.random.seed(42)\n",
    "np.random.shuffle(idx)\n",
    "\n",
    "df_train = prediction_data.iloc[idx[:n_train]]\n",
    "df_val = prediction_data.iloc[idx[n_train:n_train+n_val]]\n",
    "df_test = prediction_data.iloc[idx[n_train+n_val:]]"
   ],
   "id": "b6eae7d0877efba0"
  },
  {
   "metadata": {
    "ExecuteTime": {
     "end_time": "2025-10-04T11:49:04.961197Z",
     "start_time": "2025-10-04T11:49:04.958836Z"
    }
   },
   "cell_type": "code",
   "outputs": [
    {
     "name": "stdout",
     "output_type": "stream",
     "text": [
      "Train set size: 5822\n",
      "Validation set size: 1940\n",
      "Test set size: 1942\n"
     ]
    }
   ],
   "execution_count": 23,
   "source": [
    "print(f'Train set size: {len(df_train)}')\n",
    "print(f'Validation set size: {len(df_val)}')\n",
    "print(f'Test set size: {len(df_test)}')"
   ],
   "id": "fb31d3a0bfa49591"
  },
  {
   "metadata": {
    "ExecuteTime": {
     "end_time": "2025-10-04T12:00:01.621150Z",
     "start_time": "2025-10-04T12:00:01.618679Z"
    }
   },
   "cell_type": "code",
   "outputs": [],
   "execution_count": 29,
   "source": [
    "y_train = df_train['fuel_efficiency_mpg'].values\n",
    "y_val = df_val['fuel_efficiency_mpg'].values\n",
    "y_test = df_test['fuel_efficiency_mpg'].values"
   ],
   "id": "d92cfbe31a2170e5"
  },
  {
   "metadata": {
    "ExecuteTime": {
     "end_time": "2025-10-04T12:00:24.736183Z",
     "start_time": "2025-10-04T12:00:24.733697Z"
    }
   },
   "cell_type": "code",
   "outputs": [],
   "execution_count": 30,
   "source": [
    "## remove msrp from data\n",
    "del df_train['fuel_efficiency_mpg']\n",
    "del df_val['fuel_efficiency_mpg']\n",
    "del df_test['fuel_efficiency_mpg']"
   ],
   "id": "2e467a842169c2bc"
  },
  {
   "metadata": {
    "ExecuteTime": {
     "end_time": "2025-10-04T12:00:27.975840Z",
     "start_time": "2025-10-04T12:00:27.971906Z"
    }
   },
   "cell_type": "code",
   "outputs": [
    {
     "data": {
      "text/plain": [
       "engine_displacement      0\n",
       "horsepower             429\n",
       "vehicle_weight           0\n",
       "model_year               0\n",
       "dtype: int64"
      ]
     },
     "execution_count": 31,
     "metadata": {},
     "output_type": "execute_result"
    }
   ],
   "execution_count": 31,
   "source": "df_train.isna().sum()",
   "id": "ca40fde0d512ca6b"
  },
  {
   "metadata": {
    "ExecuteTime": {
     "end_time": "2025-10-04T12:13:18.293318Z",
     "start_time": "2025-10-04T12:13:18.290540Z"
    }
   },
   "cell_type": "code",
   "outputs": [
    {
     "data": {
      "text/plain": [
       "engine_displacement      int64\n",
       "horsepower             float64\n",
       "vehicle_weight         float64\n",
       "model_year               int64\n",
       "dtype: object"
      ]
     },
     "execution_count": 46,
     "metadata": {},
     "output_type": "execute_result"
    }
   ],
   "execution_count": 46,
   "source": "df_train.dtypes",
   "id": "16776144562f5b7d"
  },
  {
   "metadata": {
    "ExecuteTime": {
     "end_time": "2025-10-04T12:11:02.778462Z",
     "start_time": "2025-10-04T12:11:02.775909Z"
    }
   },
   "cell_type": "code",
   "outputs": [
    {
     "data": {
      "text/plain": [
       "2000"
      ]
     },
     "execution_count": 44,
     "metadata": {},
     "output_type": "execute_result"
    }
   ],
   "execution_count": 44,
   "source": "df_train['model_year'].min()",
   "id": "5a61aac9fef5ab62"
  },
  {
   "metadata": {
    "ExecuteTime": {
     "end_time": "2025-10-04T12:14:59.879936Z",
     "start_time": "2025-10-04T12:14:59.877156Z"
    }
   },
   "cell_type": "code",
   "outputs": [],
   "execution_count": 47,
   "source": [
    "def prepare_x_fillna_0(df: pd.DataFrame):\n",
    "    df = df.copy()\n",
    "    df['model_year'] = df['model_year'] -df['model_year'].min()\n",
    "    df['horsepower'] = df['horsepower'].fillna(0)\n",
    "    X = df.values\n",
    "    return X\n",
    "\n",
    "def prepare_x_fillna_mean(df: pd.DataFrame):\n",
    "    df = df.copy()\n",
    "    df['model_year'] = df['model_year'] -df['model_year'].min()\n",
    "    df['horsepower'] = df['horsepower'].fillna(df['horsepower'].mean())\n",
    "    X = df.values\n",
    "    return X"
   ],
   "id": "cb2fe3d5eb048020"
  },
  {
   "metadata": {
    "ExecuteTime": {
     "end_time": "2025-10-04T12:15:34.999201Z",
     "start_time": "2025-10-04T12:15:34.994489Z"
    }
   },
   "cell_type": "code",
   "outputs": [
    {
     "data": {
      "text/plain": [
       "      engine_displacement  horsepower  vehicle_weight  model_year\n",
       "483                   220       144.0     2535.887591        2009\n",
       "7506                  160       141.0     2741.170484        2019\n",
       "8795                  230       155.0     2471.880237        2017\n",
       "1688                  150       206.0     3748.164469        2015\n",
       "6217                  300       111.0     2135.716359        2006\n",
       "...                   ...         ...             ...         ...\n",
       "8387                  160       111.0     3038.134712        2002\n",
       "7331                  160       157.0     2877.624938        2006\n",
       "1696                  260       139.0     2606.972984        2009\n",
       "5685                  280       132.0     4004.214323        2014\n",
       "6735                  210       152.0     2500.175687        2020\n",
       "\n",
       "[5822 rows x 4 columns]"
      ],
      "text/html": [
       "<div>\n",
       "<style scoped>\n",
       "    .dataframe tbody tr th:only-of-type {\n",
       "        vertical-align: middle;\n",
       "    }\n",
       "\n",
       "    .dataframe tbody tr th {\n",
       "        vertical-align: top;\n",
       "    }\n",
       "\n",
       "    .dataframe thead th {\n",
       "        text-align: right;\n",
       "    }\n",
       "</style>\n",
       "<table border=\"1\" class=\"dataframe\">\n",
       "  <thead>\n",
       "    <tr style=\"text-align: right;\">\n",
       "      <th></th>\n",
       "      <th>engine_displacement</th>\n",
       "      <th>horsepower</th>\n",
       "      <th>vehicle_weight</th>\n",
       "      <th>model_year</th>\n",
       "    </tr>\n",
       "  </thead>\n",
       "  <tbody>\n",
       "    <tr>\n",
       "      <th>483</th>\n",
       "      <td>220</td>\n",
       "      <td>144.0</td>\n",
       "      <td>2535.887591</td>\n",
       "      <td>2009</td>\n",
       "    </tr>\n",
       "    <tr>\n",
       "      <th>7506</th>\n",
       "      <td>160</td>\n",
       "      <td>141.0</td>\n",
       "      <td>2741.170484</td>\n",
       "      <td>2019</td>\n",
       "    </tr>\n",
       "    <tr>\n",
       "      <th>8795</th>\n",
       "      <td>230</td>\n",
       "      <td>155.0</td>\n",
       "      <td>2471.880237</td>\n",
       "      <td>2017</td>\n",
       "    </tr>\n",
       "    <tr>\n",
       "      <th>1688</th>\n",
       "      <td>150</td>\n",
       "      <td>206.0</td>\n",
       "      <td>3748.164469</td>\n",
       "      <td>2015</td>\n",
       "    </tr>\n",
       "    <tr>\n",
       "      <th>6217</th>\n",
       "      <td>300</td>\n",
       "      <td>111.0</td>\n",
       "      <td>2135.716359</td>\n",
       "      <td>2006</td>\n",
       "    </tr>\n",
       "    <tr>\n",
       "      <th>...</th>\n",
       "      <td>...</td>\n",
       "      <td>...</td>\n",
       "      <td>...</td>\n",
       "      <td>...</td>\n",
       "    </tr>\n",
       "    <tr>\n",
       "      <th>8387</th>\n",
       "      <td>160</td>\n",
       "      <td>111.0</td>\n",
       "      <td>3038.134712</td>\n",
       "      <td>2002</td>\n",
       "    </tr>\n",
       "    <tr>\n",
       "      <th>7331</th>\n",
       "      <td>160</td>\n",
       "      <td>157.0</td>\n",
       "      <td>2877.624938</td>\n",
       "      <td>2006</td>\n",
       "    </tr>\n",
       "    <tr>\n",
       "      <th>1696</th>\n",
       "      <td>260</td>\n",
       "      <td>139.0</td>\n",
       "      <td>2606.972984</td>\n",
       "      <td>2009</td>\n",
       "    </tr>\n",
       "    <tr>\n",
       "      <th>5685</th>\n",
       "      <td>280</td>\n",
       "      <td>132.0</td>\n",
       "      <td>4004.214323</td>\n",
       "      <td>2014</td>\n",
       "    </tr>\n",
       "    <tr>\n",
       "      <th>6735</th>\n",
       "      <td>210</td>\n",
       "      <td>152.0</td>\n",
       "      <td>2500.175687</td>\n",
       "      <td>2020</td>\n",
       "    </tr>\n",
       "  </tbody>\n",
       "</table>\n",
       "<p>5822 rows × 4 columns</p>\n",
       "</div>"
      ]
     },
     "execution_count": 51,
     "metadata": {},
     "output_type": "execute_result"
    }
   ],
   "execution_count": 51,
   "source": "df_train",
   "id": "15f7efd672bf9b4"
  },
  {
   "metadata": {
    "ExecuteTime": {
     "end_time": "2025-10-04T12:01:58.666623Z",
     "start_time": "2025-10-04T12:01:58.663163Z"
    }
   },
   "cell_type": "code",
   "outputs": [
    {
     "data": {
      "text/plain": [
       "np.float64(149.54348229185982)"
      ]
     },
     "execution_count": 36,
     "metadata": {},
     "output_type": "execute_result"
    }
   ],
   "execution_count": 36,
   "source": "# np.mean(df_train.horsepower)",
   "id": "fa4c8b1544400f3a"
  },
  {
   "metadata": {
    "ExecuteTime": {
     "end_time": "2025-10-04T12:02:50.776889Z",
     "start_time": "2025-10-04T12:02:50.774351Z"
    }
   },
   "cell_type": "code",
   "outputs": [],
   "execution_count": 37,
   "source": [
    "# df_train_t1['horsepower'] = df_train_t1['horsepower'].fillna(0)\n",
    "# df_train_t2['horsepower'] = df_train_t2['horsepower'].fillna(df_train_t2['horsepower'].mean())"
   ],
   "id": "d51e48d593fc7e53"
  },
  {
   "metadata": {
    "ExecuteTime": {
     "end_time": "2025-10-04T12:05:40.835384Z",
     "start_time": "2025-10-04T12:05:40.831897Z"
    }
   },
   "cell_type": "code",
   "outputs": [
    {
     "data": {
      "text/plain": [
       "engine_displacement    0\n",
       "horsepower             0\n",
       "vehicle_weight         0\n",
       "model_year             0\n",
       "dtype: int64"
      ]
     },
     "execution_count": 40,
     "metadata": {},
     "output_type": "execute_result"
    }
   ],
   "execution_count": 40,
   "source": "# df_train_t2.isna().sum()",
   "id": "5f9dd8ab3fe22ae3"
  },
  {
   "metadata": {
    "ExecuteTime": {
     "end_time": "2025-10-04T12:16:12.091230Z",
     "start_time": "2025-10-04T12:16:12.086778Z"
    }
   },
   "cell_type": "code",
   "outputs": [],
   "execution_count": 52,
   "source": "X_0 = prepare_x_fillna_0(df_train)",
   "id": "bd789795a285f1c0"
  },
  {
   "metadata": {
    "ExecuteTime": {
     "end_time": "2025-10-04T12:16:31.414719Z",
     "start_time": "2025-10-04T12:16:31.411053Z"
    }
   },
   "cell_type": "code",
   "outputs": [],
   "execution_count": 54,
   "source": "X_mean = prepare_x_fillna_mean(df_train)",
   "id": "42ec9b746a19c427"
  },
  {
   "metadata": {
    "ExecuteTime": {
     "end_time": "2025-10-04T12:16:37.213095Z",
     "start_time": "2025-10-04T12:16:37.210442Z"
    }
   },
   "cell_type": "code",
   "outputs": [
    {
     "data": {
      "text/plain": [
       "array([[ 220.        ,  144.        , 2535.88759124,    9.        ],\n",
       "       [ 160.        ,  141.        , 2741.17048439,   19.        ],\n",
       "       [ 230.        ,  155.        , 2471.88023726,   17.        ],\n",
       "       ...,\n",
       "       [ 260.        ,  139.        , 2606.9729844 ,    9.        ],\n",
       "       [ 280.        ,  132.        , 4004.21432295,   14.        ],\n",
       "       [ 210.        ,  152.        , 2500.17568746,   20.        ]],\n",
       "      shape=(5822, 4))"
      ]
     },
     "execution_count": 55,
     "metadata": {},
     "output_type": "execute_result"
    }
   ],
   "execution_count": 55,
   "source": "X_mean",
   "id": "1cc3b4a24b62c757"
  },
  {
   "metadata": {
    "ExecuteTime": {
     "end_time": "2025-10-04T12:16:45.912324Z",
     "start_time": "2025-10-04T12:16:45.910002Z"
    }
   },
   "cell_type": "code",
   "outputs": [],
   "execution_count": 56,
   "source": [
    "def train_linear_regression(X,y):\n",
    "    ones = np.ones(X.shape[0])\n",
    "    X = np.column_stack((ones, X))\n",
    "\n",
    "    XTX = X.T.dot(X)\n",
    "    XTX_inv = np.linalg.inv(XTX)\n",
    "    w_full = XTX_inv.dot(X.T).dot(y)\n",
    "\n",
    "    return w_full[0], w_full[1:]"
   ],
   "id": "610c7855493d8a5c"
  },
  {
   "metadata": {
    "ExecuteTime": {
     "end_time": "2025-10-04T12:17:10.940833Z",
     "start_time": "2025-10-04T12:17:10.939Z"
    }
   },
   "cell_type": "code",
   "outputs": [],
   "execution_count": 57,
   "source": [
    "def calculate_rmse(y,y_pred):\n",
    "    e = y-y_pred\n",
    "    se = e**2\n",
    "    mse = se.mean()\n",
    "    return np.sqrt(mse)"
   ],
   "id": "9677035035bf639"
  },
  {
   "metadata": {
    "ExecuteTime": {
     "end_time": "2025-10-04T12:21:03.883896Z",
     "start_time": "2025-10-04T12:21:03.879914Z"
    }
   },
   "cell_type": "code",
   "outputs": [
    {
     "data": {
      "text/plain": [
       "np.float64(0.5171866956560169)"
      ]
     },
     "execution_count": 66,
     "metadata": {},
     "output_type": "execute_result"
    }
   ],
   "execution_count": 66,
   "source": [
    "w0,w = train_linear_regression(X_0,y_train)\n",
    "X_val_0 = prepare_x_fillna_0(df_val)\n",
    "y_pred_0 = w0 + X_val_0.dot(w)\n",
    "calculate_rmse(y_val, y_pred_0)"
   ],
   "id": "6f3b72f30a68cb42"
  },
  {
   "metadata": {
    "ExecuteTime": {
     "end_time": "2025-10-04T12:20:30.577564Z",
     "start_time": "2025-10-04T12:20:30.575023Z"
    }
   },
   "cell_type": "code",
   "outputs": [
    {
     "data": {
      "text/plain": [
       "array([18.78263838, 17.86547128, 16.0373571 , ..., 13.21262979,\n",
       "       16.30029283, 13.69553919], shape=(1940,))"
      ]
     },
     "execution_count": 64,
     "metadata": {},
     "output_type": "execute_result"
    }
   ],
   "execution_count": 64,
   "source": "y_pred_0",
   "id": "feab784cd7892574"
  },
  {
   "metadata": {
    "ExecuteTime": {
     "end_time": "2025-10-04T12:22:03.639887Z",
     "start_time": "2025-10-04T12:22:03.635180Z"
    }
   },
   "cell_type": "code",
   "outputs": [
    {
     "data": {
      "text/plain": [
       "np.float64(0.6116417161857316)"
      ]
     },
     "execution_count": 67,
     "metadata": {},
     "output_type": "execute_result"
    }
   ],
   "execution_count": 67,
   "source": [
    "w0,w = train_linear_regression(X_mean,y_train)\n",
    "X_val_mean = prepare_x_fillna_0(df_val)\n",
    "y_pred_mean = w0 + X_val_mean.dot(w)\n",
    "calculate_rmse(y_val, y_pred_mean)"
   ],
   "id": "bef2e71927fb9a90"
  },
  {
   "metadata": {
    "ExecuteTime": {
     "end_time": "2025-10-04T12:23:27.660550Z",
     "start_time": "2025-10-04T12:23:27.658372Z"
    }
   },
   "cell_type": "code",
   "outputs": [],
   "execution_count": 69,
   "source": "r = [0, 0.01, 0.1, 1, 5, 10, 100]",
   "id": "5e8dcd0b227721e6"
  },
  {
   "metadata": {
    "ExecuteTime": {
     "end_time": "2025-10-04T12:22:49.297117Z",
     "start_time": "2025-10-04T12:22:49.293877Z"
    }
   },
   "cell_type": "code",
   "outputs": [],
   "execution_count": 68,
   "source": [
    "def train_linear_regression_reg(X,y,r=0.001):\n",
    "    ones = np.ones(X.shape[0])\n",
    "    X = np.column_stack([ones, X])\n",
    "\n",
    "    XTX = X.T.dot(X)\n",
    "    XTX = XTX + r*np.eye(XTX.shape[0])\n",
    "\n",
    "    XTX_inv = np.linalg.inv(XTX)\n",
    "    w_full = XTX_inv.dot(X.T).dot(y)\n",
    "\n",
    "    return w_full[0], w_full[1:]"
   ],
   "id": "fdf6688104db6cd3"
  },
  {
   "metadata": {
    "ExecuteTime": {
     "end_time": "2025-10-04T12:31:47.151372Z",
     "start_time": "2025-10-04T12:31:47.145223Z"
    }
   },
   "cell_type": "code",
   "source": [
    "rmse_list = {'r':[],'RMSE':[]}\n",
    "for i in r:\n",
    "    w0,w = train_linear_regression_reg(X_0,y_train,r=i)\n",
    "    y_pred_0 = w0 + X_val_0.dot(w)\n",
    "    rmse = calculate_rmse(y_val, y_pred_0)\n",
    "\n",
    "    rmse_list['r'].append(i)\n",
    "    rmse_list['RMSE'].append(rmse)\n",
    "    print(f'RMSE for r={i} : {rmse}')\n",
    "results_rmse = pd.DataFrame(data=rmse_list)"
   ],
   "id": "b986a2877a965c56",
   "outputs": [
    {
     "name": "stdout",
     "output_type": "stream",
     "text": [
      "RMSE for r=0 : 0.5171866956560169\n",
      "RMSE for r=0.01 : 0.5171780117742858\n",
      "RMSE for r=0.1 : 0.5171162815149248\n",
      "RMSE for r=1 : 0.5180882828135707\n",
      "RMSE for r=5 : 0.5525054641105889\n",
      "RMSE for r=10 : 0.6410251046077899\n",
      "RMSE for r=100 : 2.0812986683435626\n"
     ]
    }
   ],
   "execution_count": 77
  },
  {
   "metadata": {
    "ExecuteTime": {
     "end_time": "2025-10-04T12:34:13.228937Z",
     "start_time": "2025-10-04T12:34:13.226233Z"
    }
   },
   "cell_type": "code",
   "source": "results_rmse.sort_values(by='RMSE', ascending=True, inplace=True)",
   "id": "20edac4d9fee06b7",
   "outputs": [],
   "execution_count": 84
  },
  {
   "metadata": {
    "ExecuteTime": {
     "end_time": "2025-10-04T12:34:13.655131Z",
     "start_time": "2025-10-04T12:34:13.649591Z"
    }
   },
   "cell_type": "code",
   "source": "results_rmse",
   "id": "6011cf8e5425222f",
   "outputs": [
    {
     "data": {
      "text/plain": [
       "        r      RMSE\n",
       "2    0.10  0.517116\n",
       "1    0.01  0.517178\n",
       "0    0.00  0.517187\n",
       "3    1.00  0.518088\n",
       "4    5.00  0.552505\n",
       "5   10.00  0.641025\n",
       "6  100.00  2.081299"
      ],
      "text/html": [
       "<div>\n",
       "<style scoped>\n",
       "    .dataframe tbody tr th:only-of-type {\n",
       "        vertical-align: middle;\n",
       "    }\n",
       "\n",
       "    .dataframe tbody tr th {\n",
       "        vertical-align: top;\n",
       "    }\n",
       "\n",
       "    .dataframe thead th {\n",
       "        text-align: right;\n",
       "    }\n",
       "</style>\n",
       "<table border=\"1\" class=\"dataframe\">\n",
       "  <thead>\n",
       "    <tr style=\"text-align: right;\">\n",
       "      <th></th>\n",
       "      <th>r</th>\n",
       "      <th>RMSE</th>\n",
       "    </tr>\n",
       "  </thead>\n",
       "  <tbody>\n",
       "    <tr>\n",
       "      <th>2</th>\n",
       "      <td>0.10</td>\n",
       "      <td>0.517116</td>\n",
       "    </tr>\n",
       "    <tr>\n",
       "      <th>1</th>\n",
       "      <td>0.01</td>\n",
       "      <td>0.517178</td>\n",
       "    </tr>\n",
       "    <tr>\n",
       "      <th>0</th>\n",
       "      <td>0.00</td>\n",
       "      <td>0.517187</td>\n",
       "    </tr>\n",
       "    <tr>\n",
       "      <th>3</th>\n",
       "      <td>1.00</td>\n",
       "      <td>0.518088</td>\n",
       "    </tr>\n",
       "    <tr>\n",
       "      <th>4</th>\n",
       "      <td>5.00</td>\n",
       "      <td>0.552505</td>\n",
       "    </tr>\n",
       "    <tr>\n",
       "      <th>5</th>\n",
       "      <td>10.00</td>\n",
       "      <td>0.641025</td>\n",
       "    </tr>\n",
       "    <tr>\n",
       "      <th>6</th>\n",
       "      <td>100.00</td>\n",
       "      <td>2.081299</td>\n",
       "    </tr>\n",
       "  </tbody>\n",
       "</table>\n",
       "</div>"
      ]
     },
     "execution_count": 85,
     "metadata": {},
     "output_type": "execute_result"
    }
   ],
   "execution_count": 85
  },
  {
   "metadata": {
    "ExecuteTime": {
     "end_time": "2025-10-04T12:39:23.064872Z",
     "start_time": "2025-10-04T12:39:23.063051Z"
    }
   },
   "cell_type": "code",
   "source": "split_seed = [0, 1, 2, 3, 4, 5, 6, 7, 8, 9]",
   "id": "8e0a7cce1966a9b9",
   "outputs": [],
   "execution_count": 97
  },
  {
   "metadata": {
    "ExecuteTime": {
     "end_time": "2025-10-04T12:40:32.841433Z",
     "start_time": "2025-10-04T12:40:32.838836Z"
    }
   },
   "cell_type": "code",
   "source": [
    "def splitData(df,seed):\n",
    "    n_train = int(len(df) * 0.6)\n",
    "    n_val =int(len(df) * 0.2)\n",
    "    n_test = int(len(df) - n_val - n_train)\n",
    "\n",
    "    n = len(df)\n",
    "\n",
    "    idx = np.arange(n)\n",
    "    np.random.seed(seed)\n",
    "    np.random.shuffle(idx)\n",
    "\n",
    "    df_train = df.iloc[idx[:n_train]]\n",
    "    df_val = df.iloc[idx[n_train:n_train+n_val]]\n",
    "    df_test = df.iloc[idx[n_train+n_val:]]\n",
    "\n",
    "    return df_train, df_val, df_test"
   ],
   "id": "ead23b8db1c71646",
   "outputs": [],
   "execution_count": 100
  },
  {
   "metadata": {
    "ExecuteTime": {
     "end_time": "2025-10-04T12:38:29.183024Z",
     "start_time": "2025-10-04T12:38:29.181029Z"
    }
   },
   "cell_type": "code",
   "source": [
    "def prepare_x_fillna_0(df: pd.DataFrame):\n",
    "    df = df.copy()\n",
    "    df['model_year'] = df['model_year'] -df['model_year'].min()\n",
    "    df['horsepower'] = df['horsepower'].fillna(0)\n",
    "    X = df.values\n",
    "    return X\n"
   ],
   "id": "3312bbe6296bafbe",
   "outputs": [],
   "execution_count": 93
  },
  {
   "metadata": {
    "ExecuteTime": {
     "end_time": "2025-10-04T12:38:45.530496Z",
     "start_time": "2025-10-04T12:38:45.528019Z"
    }
   },
   "cell_type": "code",
   "source": [
    "def train_linear_regression(X,y):\n",
    "    ones = np.ones(X.shape[0])\n",
    "    X = np.column_stack((ones, X))\n",
    "\n",
    "    XTX = X.T.dot(X)\n",
    "    XTX_inv = np.linalg.inv(XTX)\n",
    "    w_full = XTX_inv.dot(X.T).dot(y)\n",
    "\n",
    "    return w_full[0], w_full[1:]"
   ],
   "id": "a02339e22f721fe7",
   "outputs": [],
   "execution_count": 94
  },
  {
   "metadata": {
    "ExecuteTime": {
     "end_time": "2025-10-04T12:38:57.506109Z",
     "start_time": "2025-10-04T12:38:57.503208Z"
    }
   },
   "cell_type": "code",
   "source": [
    "def calculate_rmse(y,y_pred):\n",
    "    e = y-y_pred\n",
    "    se = e**2\n",
    "    mse = se.mean()\n",
    "    return np.sqrt(mse)"
   ],
   "id": "5630a62173dd881d",
   "outputs": [],
   "execution_count": 95
  },
  {
   "metadata": {
    "ExecuteTime": {
     "end_time": "2025-10-04T12:55:01.414324Z",
     "start_time": "2025-10-04T12:55:01.391804Z"
    }
   },
   "cell_type": "code",
   "source": [
    "rmse_list = []\n",
    "for i in split_seed:\n",
    "    print(i)\n",
    "    df_train, df_val, df_test = splitData(prediction_data,i)\n",
    "    y_train = df_train['fuel_efficiency_mpg'].values\n",
    "    y_val = df_val['fuel_efficiency_mpg'].values\n",
    "    y_test = df_test['fuel_efficiency_mpg'].values\n",
    "\n",
    "    # delete\n",
    "    del df_train['fuel_efficiency_mpg']\n",
    "    del df_val['fuel_efficiency_mpg']\n",
    "    del df_test['fuel_efficiency_mpg']\n",
    "\n",
    "    X = prepare_x_fillna_0(df_train)\n",
    "    # train model\n",
    "    w0,w = train_linear_regression(X,y_train)\n",
    "\n",
    "    # predict for validation data\n",
    "    X_val = prepare_x_fillna_0(df_val)\n",
    "    y_pred = w0 + X_val.dot(w)\n",
    "\n",
    "    # calculate RMSE\n",
    "    rmse = calculate_rmse(y_val, y_pred)\n",
    "    rmse_list.append(rmse)\n",
    "\n",
    "rmse_list = np.array(rmse_list)"
   ],
   "id": "5df420f9577fdd20",
   "outputs": [
    {
     "name": "stdout",
     "output_type": "stream",
     "text": [
      "0\n",
      "1\n",
      "2\n",
      "3\n",
      "4\n",
      "5\n",
      "6\n",
      "7\n",
      "8\n",
      "9\n"
     ]
    }
   ],
   "execution_count": 102
  },
  {
   "metadata": {
    "ExecuteTime": {
     "end_time": "2025-10-04T12:55:13.290355Z",
     "start_time": "2025-10-04T12:55:13.287191Z"
    }
   },
   "cell_type": "code",
   "source": "rmse_list.std()",
   "id": "2e3caa7d0016a332",
   "outputs": [
    {
     "data": {
      "text/plain": [
       "np.float64(0.007126319128873299)"
      ]
     },
     "execution_count": 104,
     "metadata": {},
     "output_type": "execute_result"
    }
   ],
   "execution_count": 104
  },
  {
   "metadata": {
    "ExecuteTime": {
     "end_time": "2025-10-04T13:08:07.079855Z",
     "start_time": "2025-10-04T13:08:07.073620Z"
    }
   },
   "cell_type": "code",
   "source": [
    "df_train, df_val, df_test = splitData(prediction_data,9)\n",
    "y_train = df_train['fuel_efficiency_mpg'].values\n",
    "y_val = df_val['fuel_efficiency_mpg'].values\n",
    "y_test = df_test['fuel_efficiency_mpg'].values\n",
    "\n",
    "# delete\n",
    "del df_train['fuel_efficiency_mpg']\n",
    "del df_val['fuel_efficiency_mpg']\n",
    "del df_test['fuel_efficiency_mpg']\n",
    "\n",
    "df_full_train = pd.concat([df_train,df_val],axis=0)\n",
    "y_full_train = np.concatenate([y_train,y_val])\n",
    "\n",
    "X_full_train = prepare_x_fillna_0(df_full_train)\n",
    "w0,w = train_linear_regression_reg(X_full_train,y_full_train,r=0.001)\n",
    "\n",
    "X_test = prepare_x_fillna_0(df_test)\n",
    "y_pred = w0 + X_test.dot(w)\n",
    "\n",
    "rmse = calculate_rmse(y_test, y_pred)"
   ],
   "id": "236854089c42c4da",
   "outputs": [],
   "execution_count": 116
  },
  {
   "metadata": {
    "ExecuteTime": {
     "end_time": "2025-10-04T13:08:21.333140Z",
     "start_time": "2025-10-04T13:08:21.330390Z"
    }
   },
   "cell_type": "code",
   "source": "print(rmse)",
   "id": "48ca9b476a341b2a",
   "outputs": [
    {
     "name": "stdout",
     "output_type": "stream",
     "text": [
      "0.5154905466773215\n"
     ]
    }
   ],
   "execution_count": 117
  },
  {
   "metadata": {
    "ExecuteTime": {
     "end_time": "2025-10-04T13:07:32.585040Z",
     "start_time": "2025-10-04T13:07:32.582031Z"
    }
   },
   "cell_type": "code",
   "source": "type(y_full_train)",
   "id": "d4985d09f83cebc2",
   "outputs": [
    {
     "data": {
      "text/plain": [
       "numpy.ndarray"
      ]
     },
     "execution_count": 114,
     "metadata": {},
     "output_type": "execute_result"
    }
   ],
   "execution_count": 114
  },
  {
   "metadata": {
    "ExecuteTime": {
     "end_time": "2025-10-04T13:07:46.681355Z",
     "start_time": "2025-10-04T13:07:46.677830Z"
    }
   },
   "cell_type": "code",
   "source": "",
   "id": "d275cf9c8ac3b5c4",
   "outputs": [
    {
     "data": {
      "text/plain": [
       "(np.float64(29.531532595538774),\n",
       " array([ 1.63443072e-05,  3.56602870e-03, -5.01720602e-03,  1.13258259e-03]))"
      ]
     },
     "execution_count": 115,
     "metadata": {},
     "output_type": "execute_result"
    }
   ],
   "execution_count": 115
  },
  {
   "metadata": {},
   "cell_type": "code",
   "outputs": [],
   "execution_count": null,
   "source": "",
   "id": "a786e5b8787264fd"
  }
 ],
 "metadata": {
  "kernelspec": {
   "display_name": "Python 3",
   "language": "python",
   "name": "python3"
  },
  "language_info": {
   "codemirror_mode": {
    "name": "ipython",
    "version": 2
   },
   "file_extension": ".py",
   "mimetype": "text/x-python",
   "name": "python",
   "nbconvert_exporter": "python",
   "pygments_lexer": "ipython2",
   "version": "2.7.6"
  }
 },
 "nbformat": 4,
 "nbformat_minor": 5
}
